{
 "cells": [
  {
   "cell_type": "code",
   "execution_count": 14,
   "id": "c2254ae5-1760-4935-abe4-c09a07037a41",
   "metadata": {},
   "outputs": [
    {
     "name": "stdout",
     "output_type": "stream",
     "text": [
      "Requirement already satisfied: pyspark in /usr/local/spark/python (3.5.0)\n",
      "Collecting py4j==0.10.9.7 (from pyspark)\n",
      "  Downloading py4j-0.10.9.7-py2.py3-none-any.whl (200 kB)\n",
      "\u001b[2K     \u001b[90m━━━━━━━━━━━━━━━━━━━━━━━━━━━━━━━━━━━━━━━\u001b[0m \u001b[32m200.5/200.5 kB\u001b[0m \u001b[31m2.0 MB/s\u001b[0m eta \u001b[36m0:00:00\u001b[0ma \u001b[36m0:00:01\u001b[0m\n",
      "\u001b[?25hInstalling collected packages: py4j\n",
      "Successfully installed py4j-0.10.9.7\n"
     ]
    }
   ],
   "source": [
    "!pip install pyspark"
   ]
  },
  {
   "cell_type": "code",
   "execution_count": 1,
   "id": "82bc5843-9b9a-421d-a97a-4b7d0300d479",
   "metadata": {
    "scrolled": true
   },
   "outputs": [
    {
     "name": "stdout",
     "output_type": "stream",
     "text": [
      "+------------+------+-------------+------------+-------+----+----+---------+-------------+\n",
      "|ClosingPrice|Change|TradingVolume|TradingValue|Opening|High| Low|MarketCap|FullMarketCap|\n",
      "+------------+------+-------------+------------+-------+----+----+---------+-------------+\n",
      "|        7280|     0|         4520|    32820940|   7240|7280|7240|   633165|      3480379|\n",
      "|        7280|     0|         1697|    12353920|   7280|7300|7260|   633165|      3480379|\n",
      "|        7280|    20|         2390|    17416620|   7300|7300|7280|   633165|      3480379|\n",
      "|        7300|    20|         4511|    32848700|   7280|7300|7260|   634904|      3489941|\n",
      "|        7280|    20|         2623|    19134420|   7280|7300|7280|   633165|      3480379|\n",
      "+------------+------+-------------+------------+-------+----+----+---------+-------------+\n",
      "only showing top 5 rows\n",
      "\n"
     ]
    }
   ],
   "source": [
    "from pyspark.sql import SparkSession\n",
    "\n",
    "# Create a Spark session with event log configuration\n",
    "spark = SparkSession.builder \\\n",
    "    .appName(\"SparkExample\") \\\n",
    "    .config(\"spark.eventLog.enabled\", \"true\") \\\n",
    "    .config(\"spark.eventLog.dir\", \"file:/home/jovyan/work/logs\") \\\n",
    "    .getOrCreate()\n",
    "\n",
    "# Specify the IP address of your Namenode\n",
    "hadoop_namenode_address = \"namenode\"\n",
    "\n",
    "# Specify the path to your CSV file on HDFS\n",
    "csv_path = f\"hdfs://{hadoop_namenode_address}:9000/tmp/stockprice/\"\n",
    "\n",
    "# Read the CSV file into a PySpark DataFrame\n",
    "df_from_hdfs = spark.read.csv(csv_path, header=True, inferSchema=True)\n",
    "\n",
    "# Show the DataFrame\n",
    "df_from_hdfs.show(5)"
   ]
  },
  {
   "cell_type": "code",
   "execution_count": 2,
   "id": "c216fcbf-5c2a-462e-aee0-585575b5e7cb",
   "metadata": {},
   "outputs": [
    {
     "name": "stdout",
     "output_type": "stream",
     "text": [
      "Shape of the DataFrame: (1215, 9)\n"
     ]
    }
   ],
   "source": [
    "# Count the number of rows\n",
    "num_rows = df_from_hdfs.count()\n",
    "\n",
    "# Get the number of columns\n",
    "num_cols = len(df_from_hdfs.columns)\n",
    "\n",
    "# Print the shape of the DataFrame\n",
    "print(\"Shape of the DataFrame: ({}, {})\".format(num_rows, num_cols))"
   ]
  },
  {
   "cell_type": "code",
   "execution_count": 3,
   "id": "33de7887-e56b-45ba-b296-30982ad8f161",
   "metadata": {},
   "outputs": [
    {
     "name": "stdout",
     "output_type": "stream",
     "text": [
      "root\n",
      " |-- ClosingPrice: integer (nullable = true)\n",
      " |-- Change: integer (nullable = true)\n",
      " |-- TradingVolume: integer (nullable = true)\n",
      " |-- TradingValue: long (nullable = true)\n",
      " |-- Opening: integer (nullable = true)\n",
      " |-- High: integer (nullable = true)\n",
      " |-- Low: integer (nullable = true)\n",
      " |-- MarketCap: integer (nullable = true)\n",
      " |-- FullMarketCap: integer (nullable = true)\n",
      "\n"
     ]
    }
   ],
   "source": [
    "# Print the schema of the DataFrame\n",
    "df_from_hdfs.printSchema()"
   ]
  },
  {
   "cell_type": "code",
   "execution_count": 4,
   "id": "c92c7ec8-30f2-4848-a6d8-f561ac781348",
   "metadata": {},
   "outputs": [
    {
     "name": "stdout",
     "output_type": "stream",
     "text": [
      "Root Mean Squared Error (RMSE) on test data: 0.0005838904298389542\n"
     ]
    }
   ],
   "source": [
    "from sklearn.svm import SVR\n",
    "from pyspark.ml.feature import VectorAssembler\n",
    "from pyspark.ml.regression import LinearRegression\n",
    "from pyspark.ml import Pipeline\n",
    "from pyspark.sql.functions import col\n",
    "\n",
    "# Select features and target column\n",
    "feature_columns = df_from_hdfs.columns[1:]  # Exclude the first column (Date)\n",
    "target_column = \"ClosingPrice\"\n",
    "\n",
    "# Create a vector assembler\n",
    "vector_assembler = VectorAssembler(inputCols=feature_columns, outputCol=\"features\")\n",
    "\n",
    "# Define your SVM model with hyperparameters\n",
    "svm_model = SVR(kernel='linear', C=10, gamma='scale')\n",
    "\n",
    "# Wrap your SVM model with PySpark's LinearSVR\n",
    "svm = LinearRegression(featuresCol=\"features\", labelCol=target_column, maxIter=100)\n",
    "\n",
    "# Create a pipeline\n",
    "pipeline = Pipeline(stages=[vector_assembler, svm])\n",
    "\n",
    "# Split the data into training and testing sets (80% train, 20% test)\n",
    "train_data, test_data = df_from_hdfs.randomSplit([0.8, 0.2], seed=123)\n",
    "\n",
    "# Train the SVM model\n",
    "model = pipeline.fit(train_data)\n",
    "\n",
    "# Make predictions\n",
    "predictions = model.transform(test_data)\n",
    "\n",
    "# Evaluate the model\n",
    "from pyspark.ml.evaluation import RegressionEvaluator\n",
    "\n",
    "evaluator = RegressionEvaluator(labelCol=target_column, predictionCol=\"prediction\", metricName=\"rmse\")\n",
    "rmse = evaluator.evaluate(predictions)\n",
    "\n",
    "print(\"Root Mean Squared Error (RMSE) on test data:\", rmse)"
   ]
  },
  {
   "cell_type": "code",
   "execution_count": null,
   "id": "fdc35cb0-f0cc-41ea-af5e-092647409bfb",
   "metadata": {},
   "outputs": [],
   "source": []
  }
 ],
 "metadata": {
  "kernelspec": {
   "display_name": "Python 3 (ipykernel)",
   "language": "python",
   "name": "python3"
  },
  "language_info": {
   "codemirror_mode": {
    "name": "ipython",
    "version": 3
   },
   "file_extension": ".py",
   "mimetype": "text/x-python",
   "name": "python",
   "nbconvert_exporter": "python",
   "pygments_lexer": "ipython3",
   "version": "3.11.6"
  }
 },
 "nbformat": 4,
 "nbformat_minor": 5
}
